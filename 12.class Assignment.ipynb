{
 "cells": [
  {
   "cell_type": "code",
   "execution_count": 15,
   "metadata": {},
   "outputs": [],
   "source": [
    "def subfields():\n",
    "    list=[\"Machine Learning\",\"Neural Processing\",\"Vision\",\"Robotics\",\"Speech Processing\",\"Natural Language Processing\"]\n",
    "    sub=input(\"sub-fields in AI are:\")\n",
    "    for i in list:\n",
    "        print(i)"
   ]
  },
  {
   "cell_type": "code",
   "execution_count": 16,
   "metadata": {},
   "outputs": [
    {
     "name": "stdout",
     "output_type": "stream",
     "text": [
      "sub-fields in AI are: \n",
      "Machine Learning\n",
      "Neural Processing\n",
      "Vision\n",
      "Robotics\n",
      "Speech Processing\n",
      "Natural Language Processing\n"
     ]
    }
   ],
   "source": [
    "subfields()"
   ]
  },
  {
   "cell_type": "code",
   "execution_count": 17,
   "metadata": {},
   "outputs": [],
   "source": [
    "class subfieldsInAI():\n",
    "    def subfields():\n",
    "        list=[\"Machine Learning\",\"Neural Processing\",\"Vision\",\"Robotics\",\"Speech Processing\",\"Natural Language Processing\"]\n",
    "        sub=input(\"sub-fields in AI are:\")\n",
    "        for i in list:\n",
    "            print(i)"
   ]
  },
  {
   "cell_type": "code",
   "execution_count": 18,
   "metadata": {},
   "outputs": [
    {
     "name": "stdout",
     "output_type": "stream",
     "text": [
      "sub-fields in AI are: \n",
      "Machine Learning\n",
      "Neural Processing\n",
      "Vision\n",
      "Robotics\n",
      "Speech Processing\n",
      "Natural Language Processing\n"
     ]
    }
   ],
   "source": [
    "subfieldsInAI.subfields()"
   ]
  },
  {
   "cell_type": "code",
   "execution_count": 2,
   "metadata": {},
   "outputs": [],
   "source": [
    "def OddEven():\n",
    "    num=int(input(\"Enter a Number:\"))\n",
    "    if((num%2)==1):\n",
    "        print(\"52452 is Odd Number\")\n",
    "        message=\"52452 is Odd Number\"\n",
    "    else:\n",
    "        print(\"52452 is Even Number\")\n",
    "        message=\"52452 is Even Number\"\n",
    "    return message"
   ]
  },
  {
   "cell_type": "code",
   "execution_count": 3,
   "metadata": {},
   "outputs": [
    {
     "name": "stdout",
     "output_type": "stream",
     "text": [
      "Enter a Number:52452\n",
      "52452 is Even Number\n"
     ]
    },
    {
     "data": {
      "text/plain": [
       "'52452 is Even Number'"
      ]
     },
     "execution_count": 3,
     "metadata": {},
     "output_type": "execute_result"
    }
   ],
   "source": [
    "OddEven()"
   ]
  },
  {
   "cell_type": "code",
   "execution_count": 25,
   "metadata": {},
   "outputs": [],
   "source": [
    "class OddEven():\n",
    "    def OddEven():\n",
    "        num=int(input(\"Enter a Number:\"))\n",
    "        if((num%2)==1):\n",
    "            print(\"52452 is Odd Number\")\n",
    "            message=\"52452 is Odd Number\"\n",
    "        else:\n",
    "            print(\"52452 is Even Number\")\n",
    "            message=\"52452 is Even Number\"\n",
    "        return message"
   ]
  },
  {
   "cell_type": "code",
   "execution_count": 26,
   "metadata": {},
   "outputs": [
    {
     "name": "stdout",
     "output_type": "stream",
     "text": [
      "Enter a Number:52452\n",
      "52452 is Even Number\n"
     ]
    },
    {
     "data": {
      "text/plain": [
       "'52452 is Even Number'"
      ]
     },
     "execution_count": 26,
     "metadata": {},
     "output_type": "execute_result"
    }
   ],
   "source": [
    "OddEven.OddEven()"
   ]
  },
  {
   "cell_type": "code",
   "execution_count": 11,
   "metadata": {},
   "outputs": [],
   "source": [
    "def Elegible():\n",
    "    name=input(\"Your Gender:\")\n",
    "    age=int(input(\"Your Age:\"))\n",
    "    if(age>21):\n",
    "        print(\"ELEGIBLE\")\n",
    "    else:\n",
    "        print(\"NOT ELEGIBLE\")"
   ]
  },
  {
   "cell_type": "code",
   "execution_count": 12,
   "metadata": {},
   "outputs": [
    {
     "name": "stdout",
     "output_type": "stream",
     "text": [
      "Your Gender:male\n",
      "Your Age:20\n",
      "NOT ELEGIBLE\n"
     ]
    }
   ],
   "source": [
    "Elegible()"
   ]
  },
  {
   "cell_type": "code",
   "execution_count": 28,
   "metadata": {},
   "outputs": [],
   "source": [
    "class ElegiblityForMarriage():\n",
    "    def Elegible():\n",
    "        name=input(\"Your Gender:\")\n",
    "        age=int(input(\"Your Age:\"))\n",
    "        if(age>21):\n",
    "            print(\"ELEGIBLE\")\n",
    "        else:\n",
    "            print(\"NOT ELEGIBLE\")"
   ]
  },
  {
   "cell_type": "code",
   "execution_count": 29,
   "metadata": {},
   "outputs": [
    {
     "name": "stdout",
     "output_type": "stream",
     "text": [
      "Your Gender:male\n",
      "Your Age:20\n",
      "NOT ELEGIBLE\n"
     ]
    }
   ],
   "source": [
    " ElegiblityForMarriage.Elegible()"
   ]
  },
  {
   "cell_type": "code",
   "execution_count": 13,
   "metadata": {},
   "outputs": [],
   "source": [
    "def percentage():\n",
    "    sub1=int(input(\"subject1=\"))\n",
    "    sub2=int(input(\"subject2=\"))\n",
    "    sub3=int(input(\"subject3=\"))\n",
    "    sub4=int(input(\"subject4=\"))\n",
    "    sub5=int(input(\"subject5=\"))\n",
    "    Total=sub1+sub2+sub3+sub4+sub5\n",
    "    print(\"Total=\",Total)\n",
    "    percentage=(Total/500)*100\n",
    "    print(\"percentage=\",percentage)"
   ]
  },
  {
   "cell_type": "code",
   "execution_count": 14,
   "metadata": {},
   "outputs": [
    {
     "name": "stdout",
     "output_type": "stream",
     "text": [
      "subject1=98\n",
      "subject2=87\n",
      "subject3=95\n",
      "subject4=95\n",
      "subject5=93\n",
      "Total= 468\n",
      "percentage= 93.60000000000001\n"
     ]
    }
   ],
   "source": [
    "percentage()"
   ]
  },
  {
   "cell_type": "code",
   "execution_count": 15,
   "metadata": {},
   "outputs": [],
   "source": [
    "class Findpercentage():\n",
    "    def percentage():\n",
    "        sub1=int(input(\"subject1=\"))\n",
    "        sub2=int(input(\"subject2=\"))\n",
    "        sub3=int(input(\"subject3=\"))\n",
    "        sub4=int(input(\"subject4=\"))\n",
    "        sub5=int(input(\"subject5=\"))\n",
    "        Total=sub1+sub2+sub3+sub4+sub5\n",
    "        print(\"Total=\",Total)\n",
    "        percentage=(Total/500)*100\n",
    "        print(\"percentage=\",percentage)"
   ]
  },
  {
   "cell_type": "code",
   "execution_count": 16,
   "metadata": {},
   "outputs": [
    {
     "name": "stdout",
     "output_type": "stream",
     "text": [
      "subject1=98\n",
      "subject2=87\n",
      "subject3=95\n",
      "subject4=95\n",
      "subject5=93\n",
      "Total= 468\n",
      "percentage= 93.60000000000001\n"
     ]
    }
   ],
   "source": [
    "Findpercentage.percentage()"
   ]
  },
  {
   "cell_type": "code",
   "execution_count": 21,
   "metadata": {},
   "outputs": [
    {
     "name": "stdout",
     "output_type": "stream",
     "text": [
      "calculated area of triangle: 6.0\n",
      "given area of triangle: 6.0\n",
      "calculated perimeter of triangle: 52\n",
      "given perimeter of triangle: 52\n"
     ]
    }
   ],
   "source": [
    "def triangle():\n",
    "    def calculate_area(height,breath):\n",
    "        area=(height*breath)/2\n",
    "    return area\n",
    "    def calculate_perimeter(height1,height2,breadth):\n",
    "        perimeter=height1+height2+breadth\n",
    "    return perimeter\n",
    "height=3\n",
    "breadth=4\n",
    "area_of_triangle=6.0\n",
    "height1=3\n",
    "height2=4\n",
    "breadth_perimeter=45\n",
    "perimeter_of_triangle=52\n",
    "calculated_area=calculate_area(height,breadth)\n",
    "calculated_perimeter=calculate_perimeter(height1,height2,breadth_perimeter)\n",
    "print(\"calculated area of triangle:\",calculated_area)\n",
    "print(\"given area of triangle:\",area_of_triangle)\n",
    "\n",
    "print(\"calculated perimeter of triangle:\",calculated_perimeter)\n",
    "print(\"given perimeter of triangle:\",perimeter_of_triangle)"
   ]
  },
  {
   "cell_type": "code",
   "execution_count": 22,
   "metadata": {},
   "outputs": [
    {
     "name": "stdout",
     "output_type": "stream",
     "text": [
      "calculated area of triangle: 6.0\n",
      "given area of triangle: 6.0\n",
      "calculated perimeter of triangle: 52\n",
      "given perimeter of triangle: 52\n"
     ]
    }
   ],
   "source": [
    "class triangle():\n",
    "    def triangle():\n",
    "        def calculate_area(height,breath):\n",
    "            area=(height*breath)/2\n",
    "        return area\n",
    "        def calculate_perimeter(height1,height2,breadth):\n",
    "            perimeter=height1+height2+breadth\n",
    "        return perimeter\n",
    "    height=3\n",
    "    breadth=4\n",
    "    area_of_triangle=6.0\n",
    "    height1=3\n",
    "    height2=4\n",
    "    breadth_perimeter=45\n",
    "    perimeter_of_triangle=52\n",
    "    calculated_area=calculate_area(height,breadth)\n",
    "    calculated_perimeter=calculate_perimeter(height1,height2,breadth_perimeter)\n",
    "    print(\"calculated area of triangle:\",calculated_area)\n",
    "    print(\"given area of triangle:\",area_of_triangle)\n",
    "\n",
    "    print(\"calculated perimeter of triangle:\",calculated_perimeter)\n",
    "    print(\"given perimeter of triangle:\",perimeter_of_triangle)"
   ]
  }
 ],
 "metadata": {
  "kernelspec": {
   "display_name": "Python 3",
   "language": "python",
   "name": "python3"
  },
  "language_info": {
   "codemirror_mode": {
    "name": "ipython",
    "version": 3
   },
   "file_extension": ".py",
   "mimetype": "text/x-python",
   "name": "python",
   "nbconvert_exporter": "python",
   "pygments_lexer": "ipython3",
   "version": "3.7.4"
  }
 },
 "nbformat": 4,
 "nbformat_minor": 2
}
